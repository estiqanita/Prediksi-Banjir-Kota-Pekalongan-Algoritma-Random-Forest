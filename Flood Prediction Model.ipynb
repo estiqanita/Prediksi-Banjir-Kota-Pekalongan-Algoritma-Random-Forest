{
  "cells": [
    {
      "cell_type": "markdown",
      "metadata": {
        "id": "htypvzDZNohW"
      },
      "source": [
        "#**IMPORT LIBRARY**#"
      ]
    },
    {
      "cell_type": "code",
      "execution_count": null,
      "metadata": {
        "id": "mBSwwrgRN3DH"
      },
      "outputs": [],
      "source": [
        "import pandas as pd\n",
        "import numpy as np\n",
        "from sklearn.tree import export_graphviz\n",
        "from sklearn.model_selection import train_test_split\n",
        "from sklearn.metrics import accuracy_score, classification_report\n",
        "import pydot\n",
        "import seaborn as sns\n",
        "import matplotlib.pyplot as plt"
      ]
    },
    {
      "cell_type": "markdown",
      "source": [
        "#**LOAD DATASET**#"
      ],
      "metadata": {
        "id": "N25pDWgR1siR"
      }
    },
    {
      "cell_type": "code",
      "execution_count": null,
      "metadata": {
        "colab": {
          "base_uri": "https://localhost:8080/"
        },
        "id": "Ph4gh1K4PLS7",
        "outputId": "e24b1ba0-4bb5-49c1-b5db-ac8074b1c822"
      },
      "outputs": [
        {
          "output_type": "stream",
          "name": "stdout",
          "text": [
            "Mounted at /content/drive\n"
          ]
        }
      ],
      "source": [
        "# 1. Mount Gdrive ke google colab\n",
        "\n",
        "from google.colab import drive\n",
        "drive.mount('/content/drive')"
      ]
    },
    {
      "cell_type": "code",
      "execution_count": null,
      "metadata": {
        "id": "SfCdRN7BPZG8"
      },
      "outputs": [],
      "source": [
        "# 2. path letak file csv berada\n",
        "\n",
        "path_to_csv= '/content/drive/MyDrive/DigitalentDataScience/banjirpredic_.csv'"
      ]
    },
    {
      "cell_type": "code",
      "execution_count": null,
      "metadata": {
        "colab": {
          "base_uri": "https://localhost:8080/",
          "height": 206
        },
        "id": "Djuii6mBPk_o",
        "outputId": "84832a3c-c49e-42a0-ae9b-f6deebba5158"
      },
      "outputs": [
        {
          "output_type": "execute_result",
          "data": {
            "text/plain": [
              "     bulan/tahun  mingguan  curah hujan  rata-rata banyak hari hujan  \\\n",
              "0   January 2020  minggu 1       124.25                         4.25   \n",
              "1   January 2020  minggu 2       124.25                         4.25   \n",
              "2   January 2020  minggu 3       124.25                         4.25   \n",
              "3   January 2020  minggu 4       124.25                         4.25   \n",
              "4   January 2020  minggu 5       124.25                         4.25   \n",
              "\n",
              "   suhu min  rerata suhu   suhu max  debit sungai  kondisi banjir  \n",
              "0      26.0         28.7  34.393499         648.2               0  \n",
              "1      26.0         28.7  34.393499         648.2               0  \n",
              "2      26.0         28.7  34.393499         648.2               0  \n",
              "3      26.0         28.7  34.393499         353.3               1  \n",
              "4      26.0         28.7  34.393499         353.3               1  "
            ],
            "text/html": [
              "\n",
              "  <div id=\"df-b1ee87c0-0c57-47c2-a09c-a18241283332\" class=\"colab-df-container\">\n",
              "    <div>\n",
              "<style scoped>\n",
              "    .dataframe tbody tr th:only-of-type {\n",
              "        vertical-align: middle;\n",
              "    }\n",
              "\n",
              "    .dataframe tbody tr th {\n",
              "        vertical-align: top;\n",
              "    }\n",
              "\n",
              "    .dataframe thead th {\n",
              "        text-align: right;\n",
              "    }\n",
              "</style>\n",
              "<table border=\"1\" class=\"dataframe\">\n",
              "  <thead>\n",
              "    <tr style=\"text-align: right;\">\n",
              "      <th></th>\n",
              "      <th>bulan/tahun</th>\n",
              "      <th>mingguan</th>\n",
              "      <th>curah hujan</th>\n",
              "      <th>rata-rata banyak hari hujan</th>\n",
              "      <th>suhu min</th>\n",
              "      <th>rerata suhu</th>\n",
              "      <th>suhu max</th>\n",
              "      <th>debit sungai</th>\n",
              "      <th>kondisi banjir</th>\n",
              "    </tr>\n",
              "  </thead>\n",
              "  <tbody>\n",
              "    <tr>\n",
              "      <th>0</th>\n",
              "      <td>January 2020</td>\n",
              "      <td>minggu 1</td>\n",
              "      <td>124.25</td>\n",
              "      <td>4.25</td>\n",
              "      <td>26.0</td>\n",
              "      <td>28.7</td>\n",
              "      <td>34.393499</td>\n",
              "      <td>648.2</td>\n",
              "      <td>0</td>\n",
              "    </tr>\n",
              "    <tr>\n",
              "      <th>1</th>\n",
              "      <td>January 2020</td>\n",
              "      <td>minggu 2</td>\n",
              "      <td>124.25</td>\n",
              "      <td>4.25</td>\n",
              "      <td>26.0</td>\n",
              "      <td>28.7</td>\n",
              "      <td>34.393499</td>\n",
              "      <td>648.2</td>\n",
              "      <td>0</td>\n",
              "    </tr>\n",
              "    <tr>\n",
              "      <th>2</th>\n",
              "      <td>January 2020</td>\n",
              "      <td>minggu 3</td>\n",
              "      <td>124.25</td>\n",
              "      <td>4.25</td>\n",
              "      <td>26.0</td>\n",
              "      <td>28.7</td>\n",
              "      <td>34.393499</td>\n",
              "      <td>648.2</td>\n",
              "      <td>0</td>\n",
              "    </tr>\n",
              "    <tr>\n",
              "      <th>3</th>\n",
              "      <td>January 2020</td>\n",
              "      <td>minggu 4</td>\n",
              "      <td>124.25</td>\n",
              "      <td>4.25</td>\n",
              "      <td>26.0</td>\n",
              "      <td>28.7</td>\n",
              "      <td>34.393499</td>\n",
              "      <td>353.3</td>\n",
              "      <td>1</td>\n",
              "    </tr>\n",
              "    <tr>\n",
              "      <th>4</th>\n",
              "      <td>January 2020</td>\n",
              "      <td>minggu 5</td>\n",
              "      <td>124.25</td>\n",
              "      <td>4.25</td>\n",
              "      <td>26.0</td>\n",
              "      <td>28.7</td>\n",
              "      <td>34.393499</td>\n",
              "      <td>353.3</td>\n",
              "      <td>1</td>\n",
              "    </tr>\n",
              "  </tbody>\n",
              "</table>\n",
              "</div>\n",
              "    <div class=\"colab-df-buttons\">\n",
              "\n",
              "  <div class=\"colab-df-container\">\n",
              "    <button class=\"colab-df-convert\" onclick=\"convertToInteractive('df-b1ee87c0-0c57-47c2-a09c-a18241283332')\"\n",
              "            title=\"Convert this dataframe to an interactive table.\"\n",
              "            style=\"display:none;\">\n",
              "\n",
              "  <svg xmlns=\"http://www.w3.org/2000/svg\" height=\"24px\" viewBox=\"0 -960 960 960\">\n",
              "    <path d=\"M120-120v-720h720v720H120Zm60-500h600v-160H180v160Zm220 220h160v-160H400v160Zm0 220h160v-160H400v160ZM180-400h160v-160H180v160Zm440 0h160v-160H620v160ZM180-180h160v-160H180v160Zm440 0h160v-160H620v160Z\"/>\n",
              "  </svg>\n",
              "    </button>\n",
              "\n",
              "  <style>\n",
              "    .colab-df-container {\n",
              "      display:flex;\n",
              "      gap: 12px;\n",
              "    }\n",
              "\n",
              "    .colab-df-convert {\n",
              "      background-color: #E8F0FE;\n",
              "      border: none;\n",
              "      border-radius: 50%;\n",
              "      cursor: pointer;\n",
              "      display: none;\n",
              "      fill: #1967D2;\n",
              "      height: 32px;\n",
              "      padding: 0 0 0 0;\n",
              "      width: 32px;\n",
              "    }\n",
              "\n",
              "    .colab-df-convert:hover {\n",
              "      background-color: #E2EBFA;\n",
              "      box-shadow: 0px 1px 2px rgba(60, 64, 67, 0.3), 0px 1px 3px 1px rgba(60, 64, 67, 0.15);\n",
              "      fill: #174EA6;\n",
              "    }\n",
              "\n",
              "    .colab-df-buttons div {\n",
              "      margin-bottom: 4px;\n",
              "    }\n",
              "\n",
              "    [theme=dark] .colab-df-convert {\n",
              "      background-color: #3B4455;\n",
              "      fill: #D2E3FC;\n",
              "    }\n",
              "\n",
              "    [theme=dark] .colab-df-convert:hover {\n",
              "      background-color: #434B5C;\n",
              "      box-shadow: 0px 1px 3px 1px rgba(0, 0, 0, 0.15);\n",
              "      filter: drop-shadow(0px 1px 2px rgba(0, 0, 0, 0.3));\n",
              "      fill: #FFFFFF;\n",
              "    }\n",
              "  </style>\n",
              "\n",
              "    <script>\n",
              "      const buttonEl =\n",
              "        document.querySelector('#df-b1ee87c0-0c57-47c2-a09c-a18241283332 button.colab-df-convert');\n",
              "      buttonEl.style.display =\n",
              "        google.colab.kernel.accessAllowed ? 'block' : 'none';\n",
              "\n",
              "      async function convertToInteractive(key) {\n",
              "        const element = document.querySelector('#df-b1ee87c0-0c57-47c2-a09c-a18241283332');\n",
              "        const dataTable =\n",
              "          await google.colab.kernel.invokeFunction('convertToInteractive',\n",
              "                                                    [key], {});\n",
              "        if (!dataTable) return;\n",
              "\n",
              "        const docLinkHtml = 'Like what you see? Visit the ' +\n",
              "          '<a target=\"_blank\" href=https://colab.research.google.com/notebooks/data_table.ipynb>data table notebook</a>'\n",
              "          + ' to learn more about interactive tables.';\n",
              "        element.innerHTML = '';\n",
              "        dataTable['output_type'] = 'display_data';\n",
              "        await google.colab.output.renderOutput(dataTable, element);\n",
              "        const docLink = document.createElement('div');\n",
              "        docLink.innerHTML = docLinkHtml;\n",
              "        element.appendChild(docLink);\n",
              "      }\n",
              "    </script>\n",
              "  </div>\n",
              "\n",
              "\n",
              "<div id=\"df-cc66a05d-b786-4c8a-8ad0-e81a3c2748b0\">\n",
              "  <button class=\"colab-df-quickchart\" onclick=\"quickchart('df-cc66a05d-b786-4c8a-8ad0-e81a3c2748b0')\"\n",
              "            title=\"Suggest charts\"\n",
              "            style=\"display:none;\">\n",
              "\n",
              "<svg xmlns=\"http://www.w3.org/2000/svg\" height=\"24px\"viewBox=\"0 0 24 24\"\n",
              "     width=\"24px\">\n",
              "    <g>\n",
              "        <path d=\"M19 3H5c-1.1 0-2 .9-2 2v14c0 1.1.9 2 2 2h14c1.1 0 2-.9 2-2V5c0-1.1-.9-2-2-2zM9 17H7v-7h2v7zm4 0h-2V7h2v10zm4 0h-2v-4h2v4z\"/>\n",
              "    </g>\n",
              "</svg>\n",
              "  </button>\n",
              "\n",
              "<style>\n",
              "  .colab-df-quickchart {\n",
              "      --bg-color: #E8F0FE;\n",
              "      --fill-color: #1967D2;\n",
              "      --hover-bg-color: #E2EBFA;\n",
              "      --hover-fill-color: #174EA6;\n",
              "      --disabled-fill-color: #AAA;\n",
              "      --disabled-bg-color: #DDD;\n",
              "  }\n",
              "\n",
              "  [theme=dark] .colab-df-quickchart {\n",
              "      --bg-color: #3B4455;\n",
              "      --fill-color: #D2E3FC;\n",
              "      --hover-bg-color: #434B5C;\n",
              "      --hover-fill-color: #FFFFFF;\n",
              "      --disabled-bg-color: #3B4455;\n",
              "      --disabled-fill-color: #666;\n",
              "  }\n",
              "\n",
              "  .colab-df-quickchart {\n",
              "    background-color: var(--bg-color);\n",
              "    border: none;\n",
              "    border-radius: 50%;\n",
              "    cursor: pointer;\n",
              "    display: none;\n",
              "    fill: var(--fill-color);\n",
              "    height: 32px;\n",
              "    padding: 0;\n",
              "    width: 32px;\n",
              "  }\n",
              "\n",
              "  .colab-df-quickchart:hover {\n",
              "    background-color: var(--hover-bg-color);\n",
              "    box-shadow: 0 1px 2px rgba(60, 64, 67, 0.3), 0 1px 3px 1px rgba(60, 64, 67, 0.15);\n",
              "    fill: var(--button-hover-fill-color);\n",
              "  }\n",
              "\n",
              "  .colab-df-quickchart-complete:disabled,\n",
              "  .colab-df-quickchart-complete:disabled:hover {\n",
              "    background-color: var(--disabled-bg-color);\n",
              "    fill: var(--disabled-fill-color);\n",
              "    box-shadow: none;\n",
              "  }\n",
              "\n",
              "  .colab-df-spinner {\n",
              "    border: 2px solid var(--fill-color);\n",
              "    border-color: transparent;\n",
              "    border-bottom-color: var(--fill-color);\n",
              "    animation:\n",
              "      spin 1s steps(1) infinite;\n",
              "  }\n",
              "\n",
              "  @keyframes spin {\n",
              "    0% {\n",
              "      border-color: transparent;\n",
              "      border-bottom-color: var(--fill-color);\n",
              "      border-left-color: var(--fill-color);\n",
              "    }\n",
              "    20% {\n",
              "      border-color: transparent;\n",
              "      border-left-color: var(--fill-color);\n",
              "      border-top-color: var(--fill-color);\n",
              "    }\n",
              "    30% {\n",
              "      border-color: transparent;\n",
              "      border-left-color: var(--fill-color);\n",
              "      border-top-color: var(--fill-color);\n",
              "      border-right-color: var(--fill-color);\n",
              "    }\n",
              "    40% {\n",
              "      border-color: transparent;\n",
              "      border-right-color: var(--fill-color);\n",
              "      border-top-color: var(--fill-color);\n",
              "    }\n",
              "    60% {\n",
              "      border-color: transparent;\n",
              "      border-right-color: var(--fill-color);\n",
              "    }\n",
              "    80% {\n",
              "      border-color: transparent;\n",
              "      border-right-color: var(--fill-color);\n",
              "      border-bottom-color: var(--fill-color);\n",
              "    }\n",
              "    90% {\n",
              "      border-color: transparent;\n",
              "      border-bottom-color: var(--fill-color);\n",
              "    }\n",
              "  }\n",
              "</style>\n",
              "\n",
              "  <script>\n",
              "    async function quickchart(key) {\n",
              "      const quickchartButtonEl =\n",
              "        document.querySelector('#' + key + ' button');\n",
              "      quickchartButtonEl.disabled = true;  // To prevent multiple clicks.\n",
              "      quickchartButtonEl.classList.add('colab-df-spinner');\n",
              "      try {\n",
              "        const charts = await google.colab.kernel.invokeFunction(\n",
              "            'suggestCharts', [key], {});\n",
              "      } catch (error) {\n",
              "        console.error('Error during call to suggestCharts:', error);\n",
              "      }\n",
              "      quickchartButtonEl.classList.remove('colab-df-spinner');\n",
              "      quickchartButtonEl.classList.add('colab-df-quickchart-complete');\n",
              "    }\n",
              "    (() => {\n",
              "      let quickchartButtonEl =\n",
              "        document.querySelector('#df-cc66a05d-b786-4c8a-8ad0-e81a3c2748b0 button');\n",
              "      quickchartButtonEl.style.display =\n",
              "        google.colab.kernel.accessAllowed ? 'block' : 'none';\n",
              "    })();\n",
              "  </script>\n",
              "</div>\n",
              "    </div>\n",
              "  </div>\n"
            ],
            "application/vnd.google.colaboratory.intrinsic+json": {
              "type": "dataframe",
              "variable_name": "bp",
              "summary": "{\n  \"name\": \"bp\",\n  \"rows\": 167,\n  \"fields\": [\n    {\n      \"column\": \"bulan/tahun\",\n      \"properties\": {\n        \"dtype\": \"object\",\n        \"num_unique_values\": 36,\n        \"samples\": [\n          \"December 2022\",\n          \" February 2021\",\n          \" March 2022\"\n        ],\n        \"semantic_type\": \"\",\n        \"description\": \"\"\n      }\n    },\n    {\n      \"column\": \"mingguan\",\n      \"properties\": {\n        \"dtype\": \"string\",\n        \"num_unique_values\": 167,\n        \"samples\": [\n          \"minggu 102\",\n          \"minggu 109\",\n          \"minggu 79\"\n        ],\n        \"semantic_type\": \"\",\n        \"description\": \"\"\n      }\n    },\n    {\n      \"column\": \"curah hujan\",\n      \"properties\": {\n        \"dtype\": \"number\",\n        \"std\": 38.36973693601219,\n        \"min\": 3.75,\n        \"max\": 152.6,\n        \"num_unique_values\": 35,\n        \"samples\": [\n          38.0,\n          125.0,\n          77.25\n        ],\n        \"semantic_type\": \"\",\n        \"description\": \"\"\n      }\n    },\n    {\n      \"column\": \"rata-rata banyak hari hujan\",\n      \"properties\": {\n        \"dtype\": \"number\",\n        \"std\": 1.3596038590296087,\n        \"min\": 0.5,\n        \"max\": 6.25,\n        \"num_unique_values\": 20,\n        \"samples\": [\n          4.25,\n          2.5,\n          4.75\n        ],\n        \"semantic_type\": \"\",\n        \"description\": \"\"\n      }\n    },\n    {\n      \"column\": \"suhu min\",\n      \"properties\": {\n        \"dtype\": \"number\",\n        \"std\": 0.9076974057898366,\n        \"min\": 22.0,\n        \"max\": 26.0,\n        \"num_unique_values\": 15,\n        \"samples\": [\n          23.2,\n          22.2,\n          26.0\n        ],\n        \"semantic_type\": \"\",\n        \"description\": \"\"\n      }\n    },\n    {\n      \"column\": \"rerata suhu\",\n      \"properties\": {\n        \"dtype\": \"number\",\n        \"std\": 0.3396442245410957,\n        \"min\": 27.2,\n        \"max\": 28.7,\n        \"num_unique_values\": 12,\n        \"samples\": [\n          27.5,\n          28.0,\n          28.7\n        ],\n        \"semantic_type\": \"\",\n        \"description\": \"\"\n      }\n    },\n    {\n      \"column\": \"suhu max\",\n      \"properties\": {\n        \"dtype\": \"number\",\n        \"std\": 0.45652428357220454,\n        \"min\": 33.1,\n        \"max\": 35.4,\n        \"num_unique_values\": 12,\n        \"samples\": [\n          33.6,\n          34.41,\n          34.393498716852\n        ],\n        \"semantic_type\": \"\",\n        \"description\": \"\"\n      }\n    },\n    {\n      \"column\": \"debit sungai\",\n      \"properties\": {\n        \"dtype\": \"number\",\n        \"std\": 188.44016399328163,\n        \"min\": 134.1,\n        \"max\": 964.8,\n        \"num_unique_values\": 67,\n        \"samples\": [\n          303.2,\n          143.2,\n          560.9\n        ],\n        \"semantic_type\": \"\",\n        \"description\": \"\"\n      }\n    },\n    {\n      \"column\": \"kondisi banjir\",\n      \"properties\": {\n        \"dtype\": \"number\",\n        \"std\": 0,\n        \"min\": 0,\n        \"max\": 1,\n        \"num_unique_values\": 2,\n        \"samples\": [\n          1,\n          0\n        ],\n        \"semantic_type\": \"\",\n        \"description\": \"\"\n      }\n    }\n  ]\n}"
            }
          },
          "metadata": {},
          "execution_count": 15
        }
      ],
      "source": [
        "bp = pd.read_csv('/content/drive/MyDrive/DigitalentDataScience/banjirpredic_.csv')\n",
        "bp.head()"
      ]
    },
    {
      "cell_type": "markdown",
      "source": [
        "#**PREPROCESSING**#"
      ],
      "metadata": {
        "id": "RW0xwHoD3dyY"
      }
    },
    {
      "cell_type": "code",
      "execution_count": null,
      "metadata": {
        "colab": {
          "base_uri": "https://localhost:8080/"
        },
        "id": "ZpoB_dsVR7D4",
        "outputId": "954acebd-f35d-4313-9efa-09771c0a7861"
      },
      "outputs": [
        {
          "output_type": "stream",
          "name": "stdout",
          "text": [
            "<class 'pandas.core.frame.DataFrame'>\n",
            "RangeIndex: 167 entries, 0 to 166\n",
            "Data columns (total 9 columns):\n",
            " #   Column                       Non-Null Count  Dtype  \n",
            "---  ------                       --------------  -----  \n",
            " 0   bulan/tahun                  167 non-null    object \n",
            " 1   mingguan                     167 non-null    object \n",
            " 2   curah hujan                  167 non-null    float64\n",
            " 3   rata-rata banyak hari hujan  167 non-null    float64\n",
            " 4   suhu min                     167 non-null    float64\n",
            " 5   rerata suhu                  167 non-null    float64\n",
            " 6   suhu max                     167 non-null    float64\n",
            " 7   debit sungai                 167 non-null    float64\n",
            " 8   kondisi banjir               167 non-null    int64  \n",
            "dtypes: float64(6), int64(1), object(2)\n",
            "memory usage: 11.9+ KB\n"
          ]
        }
      ],
      "source": [
        "bp.info()"
      ]
    },
    {
      "cell_type": "code",
      "execution_count": null,
      "metadata": {
        "colab": {
          "base_uri": "https://localhost:8080/"
        },
        "id": "wNxYc_ZCKNnQ",
        "outputId": "547803db-41cf-4a6c-d6fc-bb24b78d7b5d"
      },
      "outputs": [
        {
          "output_type": "stream",
          "name": "stdout",
          "text": [
            "   curah hujan  rata-rata banyak hari hujan  suhu min   suhu max  \\\n",
            "0       124.25                         4.25      26.0  34.393499   \n",
            "1       124.25                         4.25      26.0  34.393499   \n",
            "2       124.25                         4.25      26.0  34.393499   \n",
            "3       124.25                         4.25      26.0  34.393499   \n",
            "4       124.25                         4.25      26.0  34.393499   \n",
            "\n",
            "   debit sungai  kondisi banjir  \n",
            "0         648.2               0  \n",
            "1         648.2               0  \n",
            "2         648.2               0  \n",
            "3         353.3               1  \n",
            "4         353.3               1  \n"
          ]
        }
      ],
      "source": [
        "# Drop kolom yang tidak diperlukan\n",
        "bp = bp.drop([ 'bulan/tahun', 'mingguan', 'rerata suhu'], axis=1)\n",
        "\n",
        "# Menampilkan beberapa baris pertama dari dataframe setelah drop kolom\n",
        "print(bp.head())\n"
      ]
    },
    {
      "cell_type": "markdown",
      "metadata": {
        "id": "k0sMJ9qFQJxN"
      },
      "source": [
        "#**MENENTUKAN TARGET DAN FITUR**#"
      ]
    },
    {
      "cell_type": "code",
      "execution_count": null,
      "metadata": {
        "id": "owPw23rAMKs5",
        "colab": {
          "base_uri": "https://localhost:8080/"
        },
        "outputId": "5e5174d7-a6d6-477b-fcf1-5a14aa292bb9"
      },
      "outputs": [
        {
          "output_type": "stream",
          "name": "stdout",
          "text": [
            "shape of x : (167, 5)\n",
            "shape of y : (167,)\n"
          ]
        }
      ],
      "source": [
        "#1. Memisahkan fitur dan target\n",
        "\n",
        "X = bp.drop(['kondisi banjir'], axis=1) ##ini untuk menentukan fitur (disini kolom kondisi banjir dikecualikan karena sebagai target)\n",
        "\n",
        "y = bp['kondisi banjir'] #memilih kolom kondisi banjir sebagai kolom target\n",
        "\n",
        "#2. print shape untuk mengecek berapa baris dan berapa kolom fitur dan target tsb\n",
        "print(f\"shape of x : {X.shape}\")\n",
        "print(f\"shape of y : {y.shape}\")"
      ]
    },
    {
      "cell_type": "markdown",
      "source": [
        "#**SPLIT DATA TESTING & DATA TRAINING**#"
      ],
      "metadata": {
        "id": "fbKAJq-q4KUF"
      }
    },
    {
      "cell_type": "code",
      "execution_count": null,
      "metadata": {
        "id": "zjunIwdtMp7Y"
      },
      "outputs": [],
      "source": [
        "#1. memisahkan data training dan data Testing\n",
        "X_train, X_test, y_train, y_test = train_test_split(X, y, test_size = 0.2, random_state = 42)"
      ]
    },
    {
      "cell_type": "code",
      "execution_count": null,
      "metadata": {
        "colab": {
          "base_uri": "https://localhost:8080/"
        },
        "id": "DI8ImAO7Mv1r",
        "outputId": "01185272-f8db-4302-dd56-3ce0c2b4fff4"
      },
      "outputs": [
        {
          "output_type": "stream",
          "name": "stdout",
          "text": [
            "Training Features Shape: (133, 5)\n",
            "Training Target Shape: (133,)\n",
            "Testing Features Shape: (34, 5)\n",
            "Testing Target Shape: (34,)\n"
          ]
        }
      ],
      "source": [
        "print('Training Features Shape:', X_train.shape)\n",
        "print('Training Target Shape:', y_train.shape)\n",
        "print('Testing Features Shape:', X_test.shape)\n",
        "print('Testing Target Shape:', y_test.shape)"
      ]
    },
    {
      "cell_type": "code",
      "execution_count": null,
      "metadata": {
        "colab": {
          "base_uri": "https://localhost:8080/"
        },
        "id": "8B8xKB2ZLYXB",
        "outputId": "292576a5-a63d-482f-8a28-158190b8804e"
      },
      "outputs": [
        {
          "output_type": "execute_result",
          "data": {
            "text/plain": [
              "curah hujan                    float64\n",
              "rata-rata banyak hari hujan    float64\n",
              "suhu min                       float64\n",
              "suhu max                       float64\n",
              "debit sungai                   float64\n",
              "dtype: object"
            ]
          },
          "metadata": {},
          "execution_count": 21
        }
      ],
      "source": [
        "# check data types in X_train (fitur)\n",
        "\n",
        "X_train.dtypes"
      ]
    },
    {
      "cell_type": "markdown",
      "metadata": {
        "id": "HTTqgfeyNw9m"
      },
      "source": [
        "#**Pemodelan dengan Nilai n_estimator Terbaik**#"
      ]
    },
    {
      "cell_type": "code",
      "execution_count": null,
      "metadata": {
        "colab": {
          "base_uri": "https://localhost:8080/"
        },
        "id": "TC7aEByUOhwu",
        "outputId": "d2abfb63-8823-446a-8f49-8e524bd3b0e7"
      },
      "outputs": [
        {
          "output_type": "stream",
          "name": "stdout",
          "text": [
            "   n_estimators  accuracy   runtime   confusion_matrix\n",
            "0             0  0.764706  0.008109  [[25, 5], [3, 1]]\n",
            "1            25  0.911765  0.040254  [[28, 2], [1, 3]]\n",
            "2            50  0.911765  0.075804  [[28, 2], [1, 3]]\n",
            "3            70  0.911765  0.103896  [[28, 2], [1, 3]]\n",
            "4           100  0.911765  0.155990  [[28, 2], [1, 3]]\n",
            "\n",
            "Model dengan akurasi tertinggi:\n",
            "n_estimators                       25\n",
            "accuracy                     0.911765\n",
            "runtime                      0.040254\n",
            "confusion_matrix    [[28, 2], [1, 3]]\n",
            "Name: 1, dtype: object\n"
          ]
        }
      ],
      "source": [
        "import time\n",
        "from sklearn.ensemble import RandomForestClassifier\n",
        "from sklearn.metrics import accuracy_score, confusion_matrix\n",
        "import pandas as pd\n",
        "\n",
        "# Asumsi X_train, y_train, X_test, y_test udah ada\n",
        "\n",
        "# List of n_estimators\n",
        "n_estimators_list = [0, 25, 50, 70, 100]\n",
        "\n",
        "# Buat list sementara buat simpan hasil\n",
        "results_temp = []\n",
        "\n",
        "# Loop through each n_estimators value\n",
        "for n_estimators in n_estimators_list:\n",
        "    # Start timer\n",
        "    start_time = time.time()\n",
        "\n",
        "    # Handle special case when n_estimators is 0\n",
        "    if n_estimators == 0:\n",
        "        n_estimators_actual = 1  # Set n_estimators_actual to 1\n",
        "    else:\n",
        "        n_estimators_actual = n_estimators  # Otherwise, use the actual value\n",
        "\n",
        "    # Instantiate the classifier with the current n_estimators_actual\n",
        "    rfc = RandomForestClassifier(n_estimators=n_estimators_actual, random_state=0)\n",
        "\n",
        "    # Fit the model to the training set\n",
        "    rfc.fit(X_train, y_train)\n",
        "\n",
        "    # Predict on the test set\n",
        "    y_pred = rfc.predict(X_test)\n",
        "\n",
        "    # Check accuracy score\n",
        "    accuracy = accuracy_score(y_test, y_pred)\n",
        "\n",
        "    # Check confusion matrix\n",
        "    conf_matrix = confusion_matrix(y_test, y_pred)\n",
        "\n",
        "    # Calculate runtime\n",
        "    runtime = time.time() - start_time\n",
        "\n",
        "    # Append results to temporary list\n",
        "    results_temp.append({\n",
        "        'n_estimators': n_estimators,\n",
        "        'accuracy': accuracy,\n",
        "        'runtime': runtime,\n",
        "        'confusion_matrix': conf_matrix\n",
        "    })\n",
        "\n",
        "# Convert list of dictionaries to dataframe\n",
        "results = pd.DataFrame(results_temp)\n",
        "\n",
        "# Print hasil\n",
        "print(results)\n",
        "\n",
        "# Cari model dengan akurasi tertinggi\n",
        "best_model = results.loc[results['accuracy'].idxmax()]\n",
        "\n",
        "print(\"\\nModel dengan akurasi tertinggi:\")\n",
        "print(best_model)\n"
      ]
    },
    {
      "cell_type": "markdown",
      "source": [
        "#**PREDICTION TEST**#"
      ],
      "metadata": {
        "id": "f6Fidkjo6k9y"
      }
    },
    {
      "cell_type": "code",
      "execution_count": null,
      "metadata": {
        "colab": {
          "base_uri": "https://localhost:8080/",
          "height": 75
        },
        "id": "nlDIWEU2Q742",
        "outputId": "4cab17c6-cb61-4de6-c3a1-eb9e049a969a"
      },
      "outputs": [
        {
          "output_type": "execute_result",
          "data": {
            "text/plain": [
              "RandomForestClassifier(n_estimators=25, random_state=42)"
            ],
            "text/html": [
              "<style>#sk-container-id-1 {color: black;background-color: white;}#sk-container-id-1 pre{padding: 0;}#sk-container-id-1 div.sk-toggleable {background-color: white;}#sk-container-id-1 label.sk-toggleable__label {cursor: pointer;display: block;width: 100%;margin-bottom: 0;padding: 0.3em;box-sizing: border-box;text-align: center;}#sk-container-id-1 label.sk-toggleable__label-arrow:before {content: \"▸\";float: left;margin-right: 0.25em;color: #696969;}#sk-container-id-1 label.sk-toggleable__label-arrow:hover:before {color: black;}#sk-container-id-1 div.sk-estimator:hover label.sk-toggleable__label-arrow:before {color: black;}#sk-container-id-1 div.sk-toggleable__content {max-height: 0;max-width: 0;overflow: hidden;text-align: left;background-color: #f0f8ff;}#sk-container-id-1 div.sk-toggleable__content pre {margin: 0.2em;color: black;border-radius: 0.25em;background-color: #f0f8ff;}#sk-container-id-1 input.sk-toggleable__control:checked~div.sk-toggleable__content {max-height: 200px;max-width: 100%;overflow: auto;}#sk-container-id-1 input.sk-toggleable__control:checked~label.sk-toggleable__label-arrow:before {content: \"▾\";}#sk-container-id-1 div.sk-estimator input.sk-toggleable__control:checked~label.sk-toggleable__label {background-color: #d4ebff;}#sk-container-id-1 div.sk-label input.sk-toggleable__control:checked~label.sk-toggleable__label {background-color: #d4ebff;}#sk-container-id-1 input.sk-hidden--visually {border: 0;clip: rect(1px 1px 1px 1px);clip: rect(1px, 1px, 1px, 1px);height: 1px;margin: -1px;overflow: hidden;padding: 0;position: absolute;width: 1px;}#sk-container-id-1 div.sk-estimator {font-family: monospace;background-color: #f0f8ff;border: 1px dotted black;border-radius: 0.25em;box-sizing: border-box;margin-bottom: 0.5em;}#sk-container-id-1 div.sk-estimator:hover {background-color: #d4ebff;}#sk-container-id-1 div.sk-parallel-item::after {content: \"\";width: 100%;border-bottom: 1px solid gray;flex-grow: 1;}#sk-container-id-1 div.sk-label:hover label.sk-toggleable__label {background-color: #d4ebff;}#sk-container-id-1 div.sk-serial::before {content: \"\";position: absolute;border-left: 1px solid gray;box-sizing: border-box;top: 0;bottom: 0;left: 50%;z-index: 0;}#sk-container-id-1 div.sk-serial {display: flex;flex-direction: column;align-items: center;background-color: white;padding-right: 0.2em;padding-left: 0.2em;position: relative;}#sk-container-id-1 div.sk-item {position: relative;z-index: 1;}#sk-container-id-1 div.sk-parallel {display: flex;align-items: stretch;justify-content: center;background-color: white;position: relative;}#sk-container-id-1 div.sk-item::before, #sk-container-id-1 div.sk-parallel-item::before {content: \"\";position: absolute;border-left: 1px solid gray;box-sizing: border-box;top: 0;bottom: 0;left: 50%;z-index: -1;}#sk-container-id-1 div.sk-parallel-item {display: flex;flex-direction: column;z-index: 1;position: relative;background-color: white;}#sk-container-id-1 div.sk-parallel-item:first-child::after {align-self: flex-end;width: 50%;}#sk-container-id-1 div.sk-parallel-item:last-child::after {align-self: flex-start;width: 50%;}#sk-container-id-1 div.sk-parallel-item:only-child::after {width: 0;}#sk-container-id-1 div.sk-dashed-wrapped {border: 1px dashed gray;margin: 0 0.4em 0.5em 0.4em;box-sizing: border-box;padding-bottom: 0.4em;background-color: white;}#sk-container-id-1 div.sk-label label {font-family: monospace;font-weight: bold;display: inline-block;line-height: 1.2em;}#sk-container-id-1 div.sk-label-container {text-align: center;}#sk-container-id-1 div.sk-container {/* jupyter's `normalize.less` sets `[hidden] { display: none; }` but bootstrap.min.css set `[hidden] { display: none !important; }` so we also need the `!important` here to be able to override the default hidden behavior on the sphinx rendered scikit-learn.org. See: https://github.com/scikit-learn/scikit-learn/issues/21755 */display: inline-block !important;position: relative;}#sk-container-id-1 div.sk-text-repr-fallback {display: none;}</style><div id=\"sk-container-id-1\" class=\"sk-top-container\"><div class=\"sk-text-repr-fallback\"><pre>RandomForestClassifier(n_estimators=25, random_state=42)</pre><b>In a Jupyter environment, please rerun this cell to show the HTML representation or trust the notebook. <br />On GitHub, the HTML representation is unable to render, please try loading this page with nbviewer.org.</b></div><div class=\"sk-container\" hidden><div class=\"sk-item\"><div class=\"sk-estimator sk-toggleable\"><input class=\"sk-toggleable__control sk-hidden--visually\" id=\"sk-estimator-id-1\" type=\"checkbox\" checked><label for=\"sk-estimator-id-1\" class=\"sk-toggleable__label sk-toggleable__label-arrow\">RandomForestClassifier</label><div class=\"sk-toggleable__content\"><pre>RandomForestClassifier(n_estimators=25, random_state=42)</pre></div></div></div></div></div>"
            ]
          },
          "metadata": {},
          "execution_count": 23
        }
      ],
      "source": [
        "#1. inisialisasi dan melatih model dengan n_estimator = 25\n",
        "\n",
        "model = RandomForestClassifier(n_estimators=25, random_state=42)\n",
        "\n",
        "model.fit(X_train, y_train)"
      ]
    },
    {
      "cell_type": "code",
      "source": [
        "#2. Evaluasi Model dan melihat accuracy nya\n",
        "y_pred = model.predict(X_test)\n",
        "print('Accuracy:', accuracy_score(y_test, y_pred))\n",
        "print('Classification Report: ', classification_report(y_test, y_pred))"
      ],
      "metadata": {
        "colab": {
          "base_uri": "https://localhost:8080/"
        },
        "id": "yOh-D1AJ5nDH",
        "outputId": "dfb4e48f-3a10-4da2-dbc1-452163513f64"
      },
      "execution_count": null,
      "outputs": [
        {
          "output_type": "stream",
          "name": "stdout",
          "text": [
            "Accuracy: 0.9117647058823529\n",
            "Classification Report:                precision    recall  f1-score   support\n",
            "\n",
            "           0       0.97      0.93      0.95        30\n",
            "           1       0.60      0.75      0.67         4\n",
            "\n",
            "    accuracy                           0.91        34\n",
            "   macro avg       0.78      0.84      0.81        34\n",
            "weighted avg       0.92      0.91      0.92        34\n",
            "\n"
          ]
        }
      ]
    },
    {
      "cell_type": "code",
      "source": [
        "import matplotlib.pyplot as plt\n",
        "import seaborn as sns\n",
        "from sklearn.metrics import confusion_matrix, accuracy_score, classification_report, precision_recall_fscore_support\n",
        "\n",
        "# Misal: model sudah dilatih dan data X_test dan y_test sudah ada\n",
        "# Menggunakan model yang sudah dilatih untuk memprediksi data uji\n",
        "y_pred = model.predict(X_test)\n",
        "\n",
        "# Menghitung akurasi\n",
        "accuracy = accuracy_score(y_test, y_pred)\n",
        "print('Accuracy:', accuracy)\n",
        "\n",
        "# Mencetak laporan klasifikasi\n",
        "print('Classification Report:\\n', classification_report(y_test, y_pred))\n",
        "\n",
        "# Menghitung confusion matrix\n",
        "cm = confusion_matrix(y_test, y_pred)\n",
        "\n",
        "# Menampilkan confusion matrix sebagai heatmap\n",
        "plt.figure(figsize=(8, 6))\n",
        "sns.heatmap(cm, annot=True, fmt='d', cmap='Blues', cbar=False,\n",
        "            xticklabels=[\"BANJIR\", \"TIDAK BANJIR\"],\n",
        "            yticklabels=[\"BANJIR\", \"TIDAK BANJIR\"])\n",
        "plt.xlabel('Predicted Labels')\n",
        "plt.ylabel('True Labels')\n",
        "plt.title('Confusion Matrix')\n",
        "plt.show()\n",
        "\n",
        "# Menghitung metrik evaluasi\n",
        "precision, recall, f1, _ = precision_recall_fscore_support(y_test, y_pred, average=None)\n",
        "\n",
        "# Menyiapkan data untuk grafik garis\n",
        "classes = [\"BANJIR\", \"TIDAK BANJIR\"]\n",
        "\n",
        "# Membuat plot untuk precision, recall, dan f1-score\n",
        "plt.figure(figsize=(10, 6))\n",
        "plt.plot(classes, precision, marker='o', label='Precision')\n",
        "plt.plot(classes, recall, marker='x', label='Recall')\n",
        "plt.plot(classes, f1, marker='s', label='F1-Score')\n",
        "\n",
        "# Menambahkan judul dan label sumbu\n",
        "plt.title('Evaluation Metrics for Each Class')\n",
        "plt.xlabel('Class')\n",
        "plt.ylabel('Score')\n",
        "plt.ylim(0, 1)  # Skala untuk metrik evaluasi biasanya dari 0 hingga 1\n",
        "\n",
        "# Menambahkan legenda\n",
        "plt.legend()\n",
        "\n",
        "# Menampilkan grafik\n",
        "plt.show()\n"
      ],
      "metadata": {
        "colab": {
          "base_uri": "https://localhost:8080/",
          "height": 1000
        },
        "id": "XN63tJTuZi9v",
        "outputId": "c05d996a-c3a5-4a25-a27d-ac4a71f85ce6"
      },
      "execution_count": null,
      "outputs": [
        {
          "output_type": "stream",
          "name": "stdout",
          "text": [
            "Accuracy: 0.9117647058823529\n",
            "Classification Report:\n",
            "               precision    recall  f1-score   support\n",
            "\n",
            "           0       0.97      0.93      0.95        30\n",
            "           1       0.60      0.75      0.67         4\n",
            "\n",
            "    accuracy                           0.91        34\n",
            "   macro avg       0.78      0.84      0.81        34\n",
            "weighted avg       0.92      0.91      0.92        34\n",
            "\n"
          ]
        },
        {
          "output_type": "display_data",
          "data": {
            "text/plain": [
              "<Figure size 800x600 with 1 Axes>"
            ],
            "image/png": "[encoded data removed]"
          },
          "metadata": {}
        },
        {
          "output_type": "display_data",
          "data": {
            "text/plain": [
              "<Figure size 1000x600 with 1 Axes>"
            ],
            "image/png": "[encoded data removed]"
          },
          "metadata": {}
        }
      ]
    },
    {
      "cell_type": "markdown",
      "source": [
        "#**MELIHAT SEBERAPA PENTING FITUR**#"
      ],
      "metadata": {
        "id": "P5R5DAou68tt"
      }
    },
    {
      "cell_type": "code",
      "execution_count": null,
      "metadata": {
        "colab": {
          "base_uri": "https://localhost:8080/"
        },
        "id": "iYokqwmXSSE6",
        "outputId": "ff7538fd-3d2a-4481-ac85-a887b8b41374"
      },
      "outputs": [
        {
          "output_type": "execute_result",
          "data": {
            "text/plain": [
              "debit sungai                   0.391882\n",
              "curah hujan                    0.284222\n",
              "rata-rata banyak hari hujan    0.141925\n",
              "suhu max                       0.092276\n",
              "suhu min                       0.089695\n",
              "dtype: float64"
            ]
          },
          "metadata": {},
          "execution_count": 15
        }
      ],
      "source": [
        "#1. Evaluasi Model dan melihat accuracy nya\n",
        "\n",
        "feature_scores = pd.Series(model.feature_importances_, index=X_train.columns).sort_values(ascending=False)\n",
        "\n",
        "feature_scores"
      ]
    },
    {
      "cell_type": "code",
      "execution_count": null,
      "metadata": {
        "colab": {
          "base_uri": "https://localhost:8080/",
          "height": 472
        },
        "id": "O-afWqznTC1M",
        "outputId": "84f485a6-f415-49bd-8f39-fd404bb60191"
      },
      "outputs": [
        {
          "output_type": "display_data",
          "data": {
            "text/plain": [
              "<Figure size 640x480 with 1 Axes>"
            ],
            "image/png": "[encoded data removed]"
          },
          "metadata": {}
        }
      ],
      "source": [
        "# 1. Membuat seaborn bar plot\n",
        "sns.barplot(x=feature_scores, y=feature_scores.index)\n",
        "\n",
        "# 2. Menambahkan labels pada graphic\n",
        "plt.xlabel('Feature Importance Score')\n",
        "plt.ylabel('Features')\n",
        "\n",
        "# 3. Menambahkan title ke graphic\n",
        "plt.title(\"Visualizing Important Features\")\n",
        "\n",
        "# Visualisasi dengan print\n",
        "plt.show()"
      ]
    },
    {
      "cell_type": "markdown",
      "source": [
        "##**SIMPAN DAN DOWNLOAD MODEL**"
      ],
      "metadata": {
        "id": "_-CxZ98D8AFX"
      }
    },
    {
      "cell_type": "code",
      "execution_count": null,
      "metadata": {
        "id": "QsAJ_n88sMql"
      },
      "outputs": [],
      "source": [
        "from google.colab import files\n",
        "#import joblib\n",
        "# Save Model ke file\n",
        "#joblib.dump(model, 'prediksi_banjir.pkl')\n",
        "\n",
        "import pickle\n",
        "\n",
        "with open('prediksi_banjir.pkl', 'wb') as file:\n",
        "    pickle.dump(model, file)"
      ]
    },
    {
      "cell_type": "code",
      "source": [
        "# Download model file\n",
        "files.download('prediksi_banjir.pkl')"
      ],
      "metadata": {
        "colab": {
          "base_uri": "https://localhost:8080/",
          "height": 17
        },
        "id": "5n1MmLto804r",
        "outputId": "31a00db5-f034-4b7a-d92c-d27b7f41c205"
      },
      "execution_count": null,
      "outputs": [
        {
          "output_type": "display_data",
          "data": {
            "text/plain": [
              "<IPython.core.display.Javascript object>"
            ],
            "application/javascript": [
              "\n",
              "    async function download(id, filename, size) {\n",
              "      if (!google.colab.kernel.accessAllowed) {\n",
              "        return;\n",
              "      }\n",
              "      const div = document.createElement('div');\n",
              "      const label = document.createElement('label');\n",
              "      label.textContent = `Downloading \"${filename}\": `;\n",
              "      div.appendChild(label);\n",
              "      const progress = document.createElement('progress');\n",
              "      progress.max = size;\n",
              "      div.appendChild(progress);\n",
              "      document.body.appendChild(div);\n",
              "\n",
              "      const buffers = [];\n",
              "      let downloaded = 0;\n",
              "\n",
              "      const channel = await google.colab.kernel.comms.open(id);\n",
              "      // Send a message to notify the kernel that we're ready.\n",
              "      channel.send({})\n",
              "\n",
              "      for await (const message of channel.messages) {\n",
              "        // Send a message to notify the kernel that we're ready.\n",
              "        channel.send({})\n",
              "        if (message.buffers) {\n",
              "          for (const buffer of message.buffers) {\n",
              "            buffers.push(buffer);\n",
              "            downloaded += buffer.byteLength;\n",
              "            progress.value = downloaded;\n",
              "          }\n",
              "        }\n",
              "      }\n",
              "      const blob = new Blob(buffers, {type: 'application/binary'});\n",
              "      const a = document.createElement('a');\n",
              "      a.href = window.URL.createObjectURL(blob);\n",
              "      a.download = filename;\n",
              "      div.appendChild(a);\n",
              "      a.click();\n",
              "      div.remove();\n",
              "    }\n",
              "  "
            ]
          },
          "metadata": {}
        },
        {
          "output_type": "display_data",
          "data": {
            "text/plain": [
              "<IPython.core.display.Javascript object>"
            ],
            "application/javascript": [
              "download(\"download_626186d4-7346-45be-a570-84902ca3c4b9\", \"prediksi_banjir.pkl\", 73676)"
            ]
          },
          "metadata": {}
        }
      ]
    },
    {
      "cell_type": "markdown",
      "metadata": {
        "id": "HdXVIH-phfB1"
      },
      "source": [
        "**MASUKKAN DATA BARU**"
      ]
    },
    {
      "cell_type": "code",
      "execution_count": null,
      "metadata": {
        "id": "-RTkJE5NhiIw",
        "colab": {
          "base_uri": "https://localhost:8080/"
        },
        "outputId": "443f06bb-a8e4-4de4-af5a-262777bba74e"
      },
      "outputs": [
        {
          "output_type": "stream",
          "name": "stdout",
          "text": [
            "Prediksi:  Tidak Banjir\n"
          ]
        }
      ],
      "source": [
        "import pandas as pd\n",
        "import pickle\n",
        "\n",
        "# Contoh Data baru dengan nilai dummy\n",
        "new_data = {\n",
        "    'curah hujan': [50],  # Ganti dengan nilai sebenarnya\n",
        "    'rata-rata banyak hari hujan': [3],  # Ganti dengan nilai sebenarnya\n",
        "    'suhu min': [22],  # Ganti dengan nilai sebenarnya\n",
        "    'suhu max': [30],  # Ganti dengan nilai sebenarnya\n",
        "    'debit sungai': [100]  # Ganti dengan nilai sebenarnya\n",
        "}\n",
        "\n",
        "# Buat data frame dari data baru\n",
        "new_df = pd.DataFrame(new_data)\n",
        "\n",
        "# Muat model dari file dengan pickle\n",
        "with open('prediksi_banjir.pkl', 'rb') as file:\n",
        "    model = pickle.load(file)\n",
        "\n",
        "# Lakukan prediksi\n",
        "new_prediction = model.predict(new_df)\n",
        "print('Prediksi: ', 'Banjir' if new_prediction[0] == 1 else 'Tidak Banjir')"
      ]
    }
  ],
  "metadata": {
    "colab": {
      "provenance": []
    },
    "kernelspec": {
      "display_name": "Python 3",
      "name": "python3"
    },
    "language_info": {
      "name": "python"
    }
  },
  "nbformat": 4,
  "nbformat_minor": 0
}